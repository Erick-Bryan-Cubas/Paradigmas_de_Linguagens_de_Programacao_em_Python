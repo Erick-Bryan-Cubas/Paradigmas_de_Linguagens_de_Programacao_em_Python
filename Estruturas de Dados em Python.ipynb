{
 "cells": [
  {
   "cell_type": "markdown",
   "id": "405d4230-7e19-4776-b872-450af6912f68",
   "metadata": {},
   "source": [
    "# Estruturas de Dados em Python"
   ]
  },
  {
   "cell_type": "code",
   "execution_count": null,
   "id": "82b90de8-f7e8-4d8e-b2b7-b29d9d7efcdd",
   "metadata": {},
   "outputs": [],
   "source": []
  },
  {
   "cell_type": "markdown",
   "id": "38e90240-2a18-4b52-9a36-ab7dd45862b7",
   "metadata": {},
   "source": [
    "## Dicionários\n",
    "É o conjunto de dados composto, estruturado em _item_, _chave_ e _valor_. Composto por ter registros atrelado a outro. "
   ]
  },
  {
   "cell_type": "code",
   "execution_count": 4,
   "id": "a1c5bd67-81e6-41cb-88d1-aff6970354b7",
   "metadata": {},
   "outputs": [
    {
     "name": "stdout",
     "output_type": "stream",
     "text": [
      "dict_items([('nome', 'João'), ('idade', 15)])\n"
     ]
    }
   ],
   "source": [
    "dados = {\"nome\":\"João\", \"idade\":15}\n",
    "print(dados.items())"
   ]
  },
  {
   "cell_type": "code",
   "execution_count": 5,
   "id": "749f107a-52e5-46ba-9d01-4891cd388d06",
   "metadata": {},
   "outputs": [
    {
     "name": "stdout",
     "output_type": "stream",
     "text": [
      "dict_keys(['nome', 'idade'])\n"
     ]
    }
   ],
   "source": [
    "dados = {\"nome\":\"João\", \"idade\":15}\n",
    "print(dados.keys())"
   ]
  },
  {
   "cell_type": "code",
   "execution_count": 7,
   "id": "e2b1cc1d-02f7-4b91-b23b-e384366d11bd",
   "metadata": {},
   "outputs": [
    {
     "name": "stdout",
     "output_type": "stream",
     "text": [
      "dict_values(['João', 15])\n"
     ]
    }
   ],
   "source": [
    "dados = {\"nome\":\"João\", \"idade\":15}\n",
    "print(dados.values())"
   ]
  },
  {
   "cell_type": "code",
   "execution_count": null,
   "id": "8fe6b1fc-fb2e-4a3c-bcc6-024278f09386",
   "metadata": {},
   "outputs": [],
   "source": []
  },
  {
   "cell_type": "code",
   "execution_count": 8,
   "id": "20d4f7bf-d464-46b2-b132-81d2a8f2aa1f",
   "metadata": {},
   "outputs": [
    {
     "name": "stdout",
     "output_type": "stream",
     "text": [
      "nome é João\n",
      "idade é 15\n",
      "curso é ADS\n"
     ]
    }
   ],
   "source": [
    "dados = {\"nome\":\"João\", \"idade\":15, \"curso\":\"ADS\"}\n",
    "\n",
    "for k, v in dados.items():\n",
    "    print(f\"{k} é {v}\")"
   ]
  },
  {
   "cell_type": "markdown",
   "id": "6379e0da-7739-4c07-b0cc-f412229026bf",
   "metadata": {},
   "source": [
    "### Dicionários em listas"
   ]
  },
  {
   "cell_type": "code",
   "execution_count": 16,
   "id": "b47510d2-9a8d-4043-9f83-b351435ddd62",
   "metadata": {},
   "outputs": [
    {
     "name": "stdout",
     "output_type": "stream",
     "text": [
      "{'Título': 'Bloodborne', 'Ano': 2015, 'Console': 'Playstation 4'}\n",
      "{'Título': 'God of War', 'Ano': 2018, 'Console': 'Playstation 4'}\n",
      "{'Título': 'The Last Of Us', 'Ano': 2013, 'Console': 'Playstation 3'}\n",
      "{'Título': 'Super Mario World', 'Ano': 1990, 'Console': 'Super Nitendo'}\n"
     ]
    }
   ],
   "source": [
    "jogo1 = {\"Título\": \"Bloodborne\", \"Ano\":2015, \"Console\":\"Playstation 4\"}\n",
    "jogo2 = {\"Título\": \"God of War\", \"Ano\":2018, \"Console\":\"Playstation 4\"}\n",
    "jogo3 = {\"Título\": \"The Last Of Us\", \"Ano\":2013, \"Console\":\"Playstation 3\"}\n",
    "jogo4 = {\"Título\": \"Super Mario World\", \"Ano\":1990, \"Console\":\"Super Nitendo\"}\n",
    "\n",
    "locadora = []\n",
    "\n",
    "locadora.append(jogo1)\n",
    "locadora.append(jogo2)\n",
    "locadora.append(jogo3)\n",
    "locadora.append(jogo4)\n",
    "for i in locadora:\n",
    "    print(i)"
   ]
  },
  {
   "cell_type": "code",
   "execution_count": 38,
   "id": "bb86e148-9c17-4a12-898d-881b21f95aaf",
   "metadata": {},
   "outputs": [
    {
     "name": "stdout",
     "output_type": "stream",
     "text": [
      "\n",
      " ({'Título': 'Bloodborne', 'Ano': 2015, 'Console': 'Playstation 4'}, {'Título': 'God of War', 'Ano': 2018, 'Console': 'Playstation 4'}, {'Título': 'The Last Of Us', 'Ano': 2013, 'Console': 'Playstation 3'}, {'Título': 'Super Mario World', 'Ano': 1990, 'Console': 'Super Nitendo'}) \n",
      "\n"
     ]
    }
   ],
   "source": [
    "jogo1 = {\"Título\": \"Bloodborne\", \"Ano\":2015, \"Console\":\"Playstation 4\"}\n",
    "jogo2 = {\"Título\": \"God of War\", \"Ano\":2018, \"Console\":\"Playstation 4\"}\n",
    "jogo3 = {\"Título\": \"The Last Of Us\", \"Ano\":2013, \"Console\":\"Playstation 3\"}\n",
    "jogo4 = {\"Título\": \"Super Mario World\", \"Ano\":1990, \"Console\":\"Super Nitendo\"}\n",
    "\n",
    "locadora = []\n",
    "\n",
    "lista_jogos = (jogo1, jogo2, jogo3, jogo4)\n",
    "locadora.append(lista_jogos)\n",
    "\n",
    "for i in locadora:\n",
    "    print(f\"\\n {i} \\n\")"
   ]
  },
  {
   "cell_type": "code",
   "execution_count": 44,
   "id": "bbf0ee08-4b7f-456e-947b-4d359757eaa1",
   "metadata": {},
   "outputs": [
    {
     "name": "stdin",
     "output_type": "stream",
     "text": [
      "Digite o título do jogo:  Xadrez\n",
      "Digite o ano do jogo:  1886\n",
      "Digite o console do jogo:  Tabuleiro de matriz 8x8\n"
     ]
    },
    {
     "name": "stdout",
     "output_type": "stream",
     "text": [
      "Ainda vai cadastrar algum jogo?\n"
     ]
    },
    {
     "name": "stdin",
     "output_type": "stream",
     "text": [
      "Digite S (para constinuar) ou N(para encerrar)) n\n"
     ]
    },
    {
     "name": "stdout",
     "output_type": "stream",
     "text": [
      " Jogos cadastrados: [{'Título': 'Xadrez', 'Ano': '1886', 'Console': 'Tabuleiro de matriz 8x8'}]\n"
     ]
    }
   ],
   "source": [
    "locadora = []\n",
    "jogo = {}\n",
    "continuar = True\n",
    "while continuar == True:\n",
    "    jogo[\"Título\"] = input(\"Digite o título do jogo: \")\n",
    "    jogo[\"Ano\"] = input(\"Digite o ano do jogo: \")\n",
    "    jogo[\"Console\"] = input(\"Digite o console do jogo: \")\n",
    "    # Nas lista os jogos seriam adicionados, porém, nos dicionários os sobrescreve. Use a função COPY\n",
    "    locadora.append(jogo.copy())\n",
    "    print(\"Ainda vai cadastrar algum jogo?\")\n",
    "    resp = input(\"Digite S (para constinuar) ou N(para encerrar))\").lower()\n",
    "    if resp == \"n\":\n",
    "        continuar = False\n",
    "print(f\" Jogos cadastrados: {locadora}\")"
   ]
  },
  {
   "cell_type": "code",
   "execution_count": 55,
   "id": "47688cd9-6513-4a21-ad4a-9be6869e869b",
   "metadata": {},
   "outputs": [
    {
     "name": "stdin",
     "output_type": "stream",
     "text": [
      "Digite o título do jogo:  Xadrez\n",
      "Digite o ano do jogo:  1886\n",
      "Digite o console do jogo:  Tabuleiro\n"
     ]
    },
    {
     "name": "stdout",
     "output_type": "stream",
     "text": [
      "Ainda vai cadastrar algum jogo?\n"
     ]
    },
    {
     "name": "stdin",
     "output_type": "stream",
     "text": [
      "Digite S (para constinuar) ou N(para encerrar)) n\n"
     ]
    },
    {
     "name": "stdout",
     "output_type": "stream",
     "text": [
      "O campo Título tem valor Xadrez\n",
      "O campo Ano tem valor 1886\n",
      "O campo Console tem valor Tabuleiro\n"
     ]
    }
   ],
   "source": [
    "locadora = []\n",
    "jogo = {}\n",
    "continuar = True\n",
    "while continuar == True:\n",
    "    jogo[\"Título\"] = input(\"Digite o título do jogo: \")\n",
    "    jogo[\"Ano\"] = input(\"Digite o ano do jogo: \")\n",
    "    jogo[\"Console\"] = input(\"Digite o console do jogo: \")\n",
    "    # Nas lista os jogos seriam adicionados, porém, nos dicionários os sobrescreve. Use a função COPY\n",
    "    locadora.append(jogo.copy())\n",
    "    print(\"Ainda vai cadastrar algum jogo?\")\n",
    "    resp = input(\"Digite S (para constinuar) ou N(para encerrar))\").lower()\n",
    "    if resp == \"n\":\n",
    "        continuar = False\n",
    "for entrada in locadora:\n",
    "    for chave, valor in entrada.items():\n",
    "        print(f\"O campo {chave} tem valor {valor}\")\n"
   ]
  },
  {
   "cell_type": "code",
   "execution_count": null,
   "id": "a6d35509-9d1f-4d92-a744-f65d6ad42b3c",
   "metadata": {},
   "outputs": [],
   "source": []
  }
 ],
 "metadata": {
  "kernelspec": {
   "display_name": "Python 3 (ipykernel)",
   "language": "python",
   "name": "python3"
  },
  "language_info": {
   "codemirror_mode": {
    "name": "ipython",
    "version": 3
   },
   "file_extension": ".py",
   "mimetype": "text/x-python",
   "name": "python",
   "nbconvert_exporter": "python",
   "pygments_lexer": "ipython3",
   "version": "3.9.7"
  }
 },
 "nbformat": 4,
 "nbformat_minor": 5
}
